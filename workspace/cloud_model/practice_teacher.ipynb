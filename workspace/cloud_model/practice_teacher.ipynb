{
 "cells": [
  {
   "cell_type": "code",
   "execution_count": 1,
   "metadata": {},
   "outputs": [
    {
     "name": "stderr",
     "output_type": "stream",
     "text": [
      "/opt/conda/lib/python3.7/site-packages/tqdm/auto.py:22: TqdmWarning: IProgress not found. Please update jupyter and ipywidgets. See https://ipywidgets.readthedocs.io/en/stable/user_install.html\n",
      "  from .autonotebook import tqdm as notebook_tqdm\n"
     ]
    }
   ],
   "source": [
    "import torch\n",
    "import torch.nn as nn\n",
    "import torch.optim as optim\n",
    "import numpy as np\n",
    "import sys\n",
    "sys.path.append('/workspace')\n",
    "\n",
    "from Data import CallDataSet, dataset\n",
    "from network import networks_target\n",
    "\n",
    "import os\n",
    "import medmnist\n",
    "from medmnist import INFO\n",
    "\n",
    "import matplotlib.pyplot as plt\n",
    "import torchvision.transforms as transforms"
   ]
  },
  {
   "attachments": {},
   "cell_type": "markdown",
   "metadata": {},
   "source": [
    "教師学習"
   ]
  },
  {
   "cell_type": "code",
   "execution_count": 3,
   "metadata": {},
   "outputs": [
    {
     "name": "stdout",
     "output_type": "stream",
     "text": [
      "Downloading https://zenodo.org/records/6496656/files/pneumoniamnist.npz to /root/.medmnist/pneumoniamnist.npz\n"
     ]
    },
    {
     "name": "stderr",
     "output_type": "stream",
     "text": [
      "100%|██████████| 4170669/4170669 [00:01<00:00, 2316545.31it/s]"
     ]
    },
    {
     "name": "stdout",
     "output_type": "stream",
     "text": [
      "Using downloaded and verified file: /root/.medmnist/pneumoniamnist.npz\n",
      "Dataset PneumoniaMNIST (pneumoniamnist)\n",
      "    Number of datapoints: 4708\n",
      "    Root location: /root/.medmnist\n",
      "    Split: train\n",
      "    Task: binary-class\n",
      "    Number of channels: 1\n",
      "    Meaning of labels: {'0': 'normal', '1': 'pneumonia'}\n",
      "    Number of samples: {'train': 4708, 'val': 524, 'test': 624}\n",
      "    Description: The PneumoniaMNIST is based on a prior dataset of 5,856 pediatric chest X-Ray images. The task is binary-class classification of pneumonia against normal. We split the source training set with a ratio of 9:1 into training and validation set and use its source validation set as the test set. The source images are gray-scale, and their sizes are (384−2,916)×(127−2,713). We center-crop the images and resize them into 1×28×28.\n",
      "    License: CC BY 4.0\n",
      "===================\n",
      "Dataset PneumoniaMNIST (pneumoniamnist)\n",
      "    Number of datapoints: 524\n",
      "    Root location: /root/.medmnist\n",
      "    Split: val\n",
      "    Task: binary-class\n",
      "    Number of channels: 1\n",
      "    Meaning of labels: {'0': 'normal', '1': 'pneumonia'}\n",
      "    Number of samples: {'train': 4708, 'val': 524, 'test': 624}\n",
      "    Description: The PneumoniaMNIST is based on a prior dataset of 5,856 pediatric chest X-Ray images. The task is binary-class classification of pneumonia against normal. We split the source training set with a ratio of 9:1 into training and validation set and use its source validation set as the test set. The source images are gray-scale, and their sizes are (384−2,916)×(127−2,713). We center-crop the images and resize them into 1×28×28.\n",
      "    License: CC BY 4.0\n"
     ]
    },
    {
     "name": "stderr",
     "output_type": "stream",
     "text": [
      "\n"
     ]
    }
   ],
   "source": [
    "#parameter\n",
    "target_data = \"MedMNIST\"\n",
    "data_flag = 'pneumoniamnist'\n",
    "batch_size = 1000\n",
    "#getting data_set\n",
    "D_import = CallDataSet.DataLoad(target_data, batch_size, data_flag)\n",
    "train_loader, test_loader = D_import.import_data()\n",
    "#getting data_param\n",
    "if 'data_flag' in globals():\n",
    "    info = INFO[data_flag]\n",
    "    n_channels = info['n_channels']\n",
    "    n_classes = len(info['label'])"
   ]
  },
  {
   "cell_type": "code",
   "execution_count": 4,
   "metadata": {},
   "outputs": [
    {
     "name": "stdout",
     "output_type": "stream",
     "text": [
      "tensor([1])\n"
     ]
    },
    {
     "data": {
      "image/png": "[encoded data removed]",
      "text/plain": [
       "<Figure size 432x288 with 1 Axes>"
      ]
     },
     "metadata": {
      "needs_background": "light"
     },
     "output_type": "display_data"
    }
   ],
   "source": [
    "to_pil_image = transforms.ToPILImage()\n",
    "\n",
    "for i, data in enumerate(train_loader):   \n",
    "    pic = data[0]\n",
    "    label = data[1]\n",
    "\n",
    "    img_tensor = pic[0]\n",
    "\n",
    "    img = to_pil_image(img_tensor)\n",
    "\n",
    "    print(label[0])\n",
    "    plt.imshow(img, cmap='gray')\n",
    "    plt.show\n",
    "    break"
   ]
  },
  {
   "attachments": {},
   "cell_type": "markdown",
   "metadata": {},
   "source": [
    "ディレクトリ作成"
   ]
  },
  {
   "cell_type": "code",
   "execution_count": 5,
   "metadata": {},
   "outputs": [],
   "source": [
    "checkpoints_path = 'checkpoints_cloud/'\n",
    "if not os.path.exists(checkpoints_path):\n",
    "    os.mkdir(checkpoints_path)"
   ]
  },
  {
   "cell_type": "code",
   "execution_count": 6,
   "metadata": {},
   "outputs": [],
   "source": [
    "base_dir = \"/workspace/cloud_model/checkpoints_cloud\"\n",
    "new_dir = os.path.join(base_dir, target_data)\n",
    "os.makedirs(new_dir, exist_ok=True)"
   ]
  },
  {
   "attachments": {},
   "cell_type": "markdown",
   "metadata": {},
   "source": [
    "モデル呼び出し"
   ]
  },
  {
   "cell_type": "code",
   "execution_count": 7,
   "metadata": {},
   "outputs": [],
   "source": [
    "if target_data == \"MedMNIST\":\n",
    "    teacher_net = networks_target.AttackerNetworkSmall_MNIST(n_classes)\n",
    "else:\n",
    "    teacher_net = networks_target.AttackerNetworkSmall_MNIST(10)\n",
    "teacher_net = teacher_net.to('cuda')"
   ]
  },
  {
   "attachments": {},
   "cell_type": "markdown",
   "metadata": {},
   "source": [
    "学習フェーズ"
   ]
  },
  {
   "cell_type": "code",
   "execution_count": 8,
   "metadata": {},
   "outputs": [
    {
     "name": "stdout",
     "output_type": "stream",
     "text": [
      "epoch: 0 validation loss: 0.617 validation accuracy: 0.733\n",
      "epoch: 3 validation loss: 0.520 validation accuracy: 0.739\n",
      "epoch: 6 validation loss: 0.427 validation accuracy: 0.787\n",
      "epoch: 9 validation loss: 0.302 validation accuracy: 0.894\n",
      "epoch: 12 validation loss: 0.245 validation accuracy: 0.915\n",
      "epoch: 15 validation loss: 0.274 validation accuracy: 0.884\n",
      "epoch: 18 validation loss: 0.222 validation accuracy: 0.911\n",
      "epoch: 21 validation loss: 0.231 validation accuracy: 0.912\n",
      "epoch: 24 validation loss: 0.223 validation accuracy: 0.911\n",
      "epoch: 27 validation loss: 0.207 validation accuracy: 0.919\n",
      "epoch: 30 validation loss: 0.203 validation accuracy: 0.922\n",
      "epoch: 33 validation loss: 0.214 validation accuracy: 0.917\n",
      "epoch: 36 validation loss: 0.191 validation accuracy: 0.915\n",
      "epoch: 39 validation loss: 0.232 validation accuracy: 0.894\n",
      "epoch: 42 validation loss: 0.204 validation accuracy: 0.929\n",
      "epoch: 45 validation loss: 0.187 validation accuracy: 0.931\n",
      "epoch: 48 validation loss: 0.217 validation accuracy: 0.917\n",
      "epoch: 51 validation loss: 0.190 validation accuracy: 0.929\n",
      "epoch: 54 validation loss: 0.208 validation accuracy: 0.928\n",
      "epoch: 57 validation loss: 0.188 validation accuracy: 0.932\n"
     ]
    }
   ],
   "source": [
    "#ターゲットモデル学習パラメータ\n",
    "num_epochs =60\n",
    "lr = 0.003\n",
    "momentum = 0.5\n",
    "\n",
    "\n",
    "criterion = nn.CrossEntropyLoss()\n",
    "optimizer = optim.Adam(teacher_net.parameters(), lr, weight_decay=0.0)\n",
    "# 学習率減衰\n",
    "lr_scheduler = optim.lr_scheduler.StepLR(optimizer, step_size= 5, gamma= 0.5)\n",
    "#list for saving learning_score\n",
    "accuracy_list = [] \n",
    "loss_list = [] \n",
    "\n",
    "for epoch in range(num_epochs):\n",
    "    for batch_id, dataset in enumerate(train_loader):\n",
    "        data, label = dataset #cutting train data and label\n",
    "        data, label = data.to('cuda'), label.to('cuda') #moving GPU device\n",
    "        optimizer.zero_grad() #zero out the gradients for this batch\n",
    "        outputs = teacher_net(data)\n",
    "        if target_data == \"MedMNIST\":\n",
    "            label = label.squeeze().long()\n",
    "        loss = criterion(outputs, label)\n",
    "        loss.backward()\n",
    "        optimizer.step()\n",
    "    if epoch % 3 == 0:\n",
    "        acc = torch.sum(torch.argmax(outputs,dim =1) == label).item()/label.shape[0]\n",
    "        accuracy_list.append(acc)\n",
    "        loss_list.append(loss)\n",
    "        print('epoch: %d validation loss: %.3f validation accuracy: %.3f' %(epoch, loss, acc))\n",
    "    lr_scheduler.step()\n",
    "    \n",
    "\n"
   ]
  },
  {
   "cell_type": "code",
   "execution_count": 9,
   "metadata": {},
   "outputs": [],
   "source": [
    "def calculate_accuracy(model, dataloader):\n",
    "    model.to('cuda')\n",
    "    model.eval()\n",
    "    correct_predictions = 0\n",
    "    total_predictions = 0\n",
    "    \n",
    "    with torch.no_grad():\n",
    "        for data in dataloader:\n",
    "            inputs, labels = data\n",
    "            inputs = inputs.to('cuda')\n",
    "            labels = labels.to('cuda')\n",
    "\n",
    "            if target_data == \"MedMNIST\":\n",
    "                labels = labels.squeeze().long()\n",
    "            outputs = model(inputs)\n",
    "            _, predicted = torch.max(outputs.data, 1)\n",
    "\n",
    "            total_predictions += labels.size(0)\n",
    "            correct_predictions += (predicted == labels).sum().item()\n",
    "\n",
    "    accuracy = (correct_predictions / total_predictions) * 100\n",
    "    return accuracy"
   ]
  },
  {
   "cell_type": "code",
   "execution_count": 10,
   "metadata": {},
   "outputs": [
    {
     "name": "stdout",
     "output_type": "stream",
     "text": [
      "91.79389312977099\n"
     ]
    }
   ],
   "source": [
    "# Getting accuracy\n",
    "accuracy = calculate_accuracy(teacher_net, test_loader)\n",
    "print(accuracy)"
   ]
  },
  {
   "cell_type": "code",
   "execution_count": 11,
   "metadata": {},
   "outputs": [
    {
     "name": "stdout",
     "output_type": "stream",
     "text": [
      "Accuracy: 91.79 %%\n"
     ]
    }
   ],
   "source": [
    "correct=0\n",
    "total=0\n",
    "\n",
    "with torch.no_grad():\n",
    "   for (images, labels) in test_loader:\n",
    "        images, labels = images.to('cuda'), labels.to('cuda') \n",
    "        labels=torch.reshape(labels,(-1,)) #1次元に変更\n",
    "        outputs = teacher_net(images) #テストに対するforwardを実行\n",
    "        _, predicted = torch.max(outputs.data, 1) #axis=1, _は確率の最大値,predictedは最大値のインデックス\n",
    "        total += labels.size()[0] #例:(100,28,28)が画像のサイズ、.size[0]で100を返す\n",
    "        correct += (predicted == labels).sum().item() #論理演算でtensor([ True, False,  True,…])にし、.sumでTrue=1,False=0で合計をtensor(sum)にし,.itemでsumを取り出す\n",
    "print('Accuracy: {:.2f} %%'.format(100 * float(correct/total)))"
   ]
  },
  {
   "cell_type": "code",
   "execution_count": 12,
   "metadata": {},
   "outputs": [],
   "source": [
    "# モデル保存\n",
    "teacher_net = teacher_net.to('cpu')\n",
    "# モデル名取得\n",
    "class_name = teacher_net.__class__.__name__\n",
    "file_name = f\"!{class_name}_epoch_{num_epochs}_data_{target_data}\"\n",
    "save_path = os.path.join(new_dir, file_name)\n",
    "torch.save({'results' : accuracy, \n",
    "            'model_state_dict' : teacher_net.state_dict(), \n",
    "            'epoch' : num_epochs}, save_path)"
   ]
  },
  {
   "attachments": {},
   "cell_type": "markdown",
   "metadata": {},
   "source": [
    "================================="
   ]
  },
  {
   "cell_type": "code",
   "execution_count": 12,
   "metadata": {},
   "outputs": [],
   "source": [
    "import matplotlib.pyplot as plt\n",
    "import torch\n",
    "\n",
    "from pathlib import Path"
   ]
  },
  {
   "cell_type": "code",
   "execution_count": 33,
   "metadata": {},
   "outputs": [
    {
     "name": "stdout",
     "output_type": "stream",
     "text": [
      "/workspace/attacker_train/checkpoints_student/MNIST/Fashion/size_M_query_57_Batch_1000_MNIST\n",
      "/workspace/attacker_train/checkpoints_student/MNIST/Frac1k/size_M_query_57_Batch_1000_MNIST\n",
      "/workspace/attacker_train/checkpoints_student/MNIST/Frac60/size_M_query_57_Batch_1000_MNIST\n",
      "/workspace/attacker_train/checkpoints_student/MNIST/MNIST/size_M_query_57_Batch_1000_MNIST\n"
     ]
    }
   ],
   "source": [
    "model_size = [\"Fashion\",\"Frac1k\",\"Frac60\",\"MNIST\"]\n",
    "model_paths = []\n",
    "for size in model_size:\n",
    "    path = Path(\"/workspace/attacker_train/checkpoints_student/FashionMNIST\")\n",
    "    minipath = \"size_M_query_57_Batch_1000_FashionMNIST\"\n",
    "    fullpath = path/size/minipath\n",
    "    print(fullpath)\n",
    "    model_paths.append(fullpath)"
   ]
  },
  {
   "cell_type": "code",
   "execution_count": 39,
   "metadata": {},
   "outputs": [],
   "source": [
    "model_paths[2] = '/workspace/attacker_train/checkpoints_student/MNIST/Frac1k/size_M_query_70_Frac1k_MNIST'"
   ]
  },
  {
   "cell_type": "code",
   "execution_count": 40,
   "metadata": {},
   "outputs": [],
   "source": [
    "model_paths[3] = '/workspace/attacker_train/checkpoints_student/MNIST/Frac60/size_M_query_70_Frac60_MNIST'"
   ]
  },
  {
   "cell_type": "code",
   "execution_count": 44,
   "metadata": {},
   "outputs": [],
   "source": [
    "def load_model_results(path_list):\n",
    "    results = []\n",
    "    for path in path_list:\n",
    "        checkpoint = torch.load(path)\n",
    "        results.append(checkpoint['results'])\n",
    "    return results"
   ]
  },
  {
   "cell_type": "code",
   "execution_count": 45,
   "metadata": {},
   "outputs": [
    {
     "name": "stdout",
     "output_type": "stream",
     "text": [
      "Results for model 1: [56.269999999999996, 73.98, 82.52000000000001, 88.19, 91.56, 93.36, 95.7, 96.61, 97.22, 97.46000000000001, 97.65, 97.74000000000001, 97.83, 97.85000000000001, 97.92999999999999, 97.95, 97.95, 98.02, 98.02, 98.05, 97.97, 98.08, 98.06, 98.02, 98.06, 98.04, 98.06, 98.08, 98.09, 98.06, 98.06, 98.11999999999999, 98.03, 98.07000000000001, 98.08, 98.07000000000001, 98.07000000000001, 98.06, 98.08, 98.06, 98.06, 98.06, 98.05, 98.08, 98.08, 98.1, 98.09, 98.08, 98.08, 98.11]\n",
      "Results for model 2: [52.480000000000004, 83.8, 93.71000000000001, 95.97, 97.37, 97.55, 97.57000000000001, 97.88, 97.92999999999999, 97.95, 98.04, 97.91, 98.09, 98.1, 98.07000000000001, 98.06, 98.05, 98.06, 98.08, 98.11, 98.09, 98.09, 98.08, 98.08, 98.07000000000001, 98.09, 98.11, 98.09, 98.11, 98.1, 98.08, 98.05, 98.08, 98.09, 98.11, 98.07000000000001, 98.08, 98.1, 98.11999999999999, 98.09, 98.09, 98.07000000000001, 98.07000000000001, 98.09, 98.07000000000001, 98.09, 98.09, 98.07000000000001, 98.11999999999999, 98.06, 98.1, 98.13, 98.11, 98.14, 98.09, 98.1, 98.11]\n",
      "Results for model 3: [52.910000000000004, 88.44, 95.65, 97.24000000000001, 97.78999999999999, 97.98, 98.00999999999999, 98.07000000000001, 98.11, 97.99, 98.03, 98.0, 98.07000000000001, 98.13, 98.1, 98.16, 98.09, 98.05, 98.1, 98.11999999999999, 98.09, 98.08, 98.06, 98.07000000000001, 98.1, 98.1, 98.08, 98.1, 98.05, 98.1, 98.09, 98.11, 98.09, 98.1, 98.11999999999999, 98.08, 98.1, 98.11, 98.07000000000001, 98.11, 98.1, 98.09, 98.07000000000001, 98.1, 98.09, 98.09, 98.09, 98.1, 98.08, 98.1, 98.09, 98.07000000000001, 98.1, 98.09, 98.08, 98.08, 98.08, 98.08, 98.1, 98.08, 98.11999999999999, 98.1, 98.1, 98.09, 98.11, 98.08, 98.11, 98.11, 98.09, 98.13]\n",
      "Results for model 4: [57.709999999999994, 89.67, 96.46000000000001, 97.49, 97.84, 98.05, 98.1, 98.00999999999999, 97.99, 98.06, 98.09, 98.13, 98.16, 98.09, 98.17, 98.11, 98.1, 98.1, 98.11999999999999, 98.1, 98.11, 98.14, 98.09, 98.11999999999999, 98.1, 98.18, 98.11999999999999, 98.11999999999999, 98.13, 98.11999999999999, 98.11999999999999, 98.13, 98.11999999999999, 98.11999999999999, 98.14, 98.11, 98.11999999999999, 98.13, 98.11, 98.1, 98.11999999999999, 98.11999999999999, 98.15, 98.09, 98.08, 98.11, 98.15, 98.11, 98.1, 98.09, 98.1, 98.09, 98.1, 98.11999999999999, 98.19, 98.11, 98.16, 98.11999999999999, 98.13, 98.14]\n"
     ]
    }
   ],
   "source": [
    "results = load_model_results(model_paths)\n",
    "\n",
    "for i, result in enumerate(results):\n",
    "\n",
    "    print(f\"Results for model {i+1}: {result}\")"
   ]
  },
  {
   "cell_type": "code",
   "execution_count": 46,
   "metadata": {},
   "outputs": [
    {
     "data": {
      "image/png": "[encoded data removed]",
      "text/plain": [
       "<Figure size 432x288 with 1 Axes>"
      ]
     },
     "metadata": {
      "needs_background": "light"
     },
     "output_type": "display_data"
    }
   ],
   "source": [
    "import numpy as np\n",
    "\n",
    "# 対数軸に設定\n",
    "plt.xscale(\"log\")\n",
    "# x軸の値を作成します。\n",
    "x_values = [i for i in range(1, max(len(results[0]), len(results[1]), len(results[2]), len(results[3])) + 1)]\n",
    "\n",
    "\n",
    "plt.plot(x_values[:len(results[0])], results[0], color = 'orange', label=\"FashionMNIST\", linestyle='--')\n",
    "plt.plot(x_values[:len(results[1])], results[1], color = 'green', label=model_size[1])\n",
    "plt.plot(x_values[:len(results[2])], results[2], color = 'red', label=model_size[2])\n",
    "plt.plot(x_values[:len(results[3])], results[3], color = 'blue', label=model_size[3])\n",
    "\n",
    "# グラフにタイトルを設定します。\n",
    "plt.title('Model Results')\n",
    "\n",
    "# x軸とy軸にラベルを設定します。\n",
    "plt.xlabel('Querys')\n",
    "plt.ylabel('Accuracy')\n",
    "plt.ylim(0,100)\n",
    "plt.gca().set_xticks([1, 10, 100])\n",
    "\n",
    "# x軸の目盛りのラベルを指定します。10の3乗から始まり、10のスケールで増えるように設定します。\n",
    "plt.gca().set_xticklabels([10**3, 10**4, 10**5])\n",
    "\n",
    "plt.legend()\n",
    "plt.show()\n"
   ]
  },
  {
   "cell_type": "code",
   "execution_count": null,
   "metadata": {},
   "outputs": [],
   "source": []
  }
 ],
 "metadata": {
  "kernelspec": {
   "display_name": "base",
   "language": "python",
   "name": "python3"
  },
  "language_info": {
   "codemirror_mode": {
    "name": "ipython",
    "version": 3
   },
   "file_extension": ".py",
   "mimetype": "text/x-python",
   "name": "python",
   "nbconvert_exporter": "python",
   "pygments_lexer": "ipython3",
   "version": "3.7.13"
  },
  "orig_nbformat": 4
 },
 "nbformat": 4,
 "nbformat_minor": 2
}
