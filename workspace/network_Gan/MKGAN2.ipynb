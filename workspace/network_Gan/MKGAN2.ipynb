{
 "cells": [
  {
   "cell_type": "code",
   "execution_count": 1,
   "metadata": {},
   "outputs": [
    {
     "name": "stderr",
     "output_type": "stream",
     "text": [
      "/opt/conda/lib/python3.7/site-packages/tqdm/auto.py:22: TqdmWarning: IProgress not found. Please update jupyter and ipywidgets. See https://ipywidgets.readthedocs.io/en/stable/user_install.html\n",
      "  from .autonotebook import tqdm as notebook_tqdm\n"
     ]
    }
   ],
   "source": [
    "import torch\n",
    "from torch import nn\n",
    "from tqdm.auto import tqdm\n",
    "from torchvision import transforms\n",
    "from torchvision.datasets import MNIST, FashionMNIST\n",
    "from torchvision.utils import make_grid\n",
    "from torch.utils.data import DataLoader, TensorDataset\n",
    "import matplotlib.pyplot as plt\n",
    "import os\n",
    "from torchvision import datasets, transforms\n",
    "import medmnist\n",
    "from medmnist import INFO"
   ]
  },
  {
   "cell_type": "code",
   "execution_count": 2,
   "metadata": {},
   "outputs": [
    {
     "ename": "ModuleNotFoundError",
     "evalue": "No module named 'fractal_learning'",
     "output_type": "error",
     "traceback": [
      "\u001b[0;31m---------------------------------------------------------------------------\u001b[0m",
      "\u001b[0;31mModuleNotFoundError\u001b[0m                       Traceback (most recent call last)",
      "\u001b[0;32m/tmp/ipykernel_185185/2853654397.py\u001b[0m in \u001b[0;36m<module>\u001b[0;34m\u001b[0m\n\u001b[0;32m----> 1\u001b[0;31m \u001b[0;32mfrom\u001b[0m \u001b[0mfractal_learning\u001b[0m\u001b[0;34m.\u001b[0m\u001b[0mfractals\u001b[0m \u001b[0;32mimport\u001b[0m \u001b[0mifs\u001b[0m\u001b[0;34m,\u001b[0m \u001b[0mdiamondsquare\u001b[0m\u001b[0;34m\u001b[0m\u001b[0;34m\u001b[0m\u001b[0m\n\u001b[0m\u001b[1;32m      2\u001b[0m \u001b[0;32mimport\u001b[0m \u001b[0mnumpy\u001b[0m \u001b[0;32mas\u001b[0m \u001b[0mnp\u001b[0m\u001b[0;34m\u001b[0m\u001b[0;34m\u001b[0m\u001b[0m\n\u001b[1;32m      3\u001b[0m \u001b[0;34m\u001b[0m\u001b[0m\n\u001b[1;32m      4\u001b[0m \u001b[0;31m# データセットを格納するためのリスト\u001b[0m\u001b[0;34m\u001b[0m\u001b[0;34m\u001b[0m\u001b[0;34m\u001b[0m\u001b[0m\n\u001b[1;32m      5\u001b[0m \u001b[0mdatasets\u001b[0m \u001b[0;34m=\u001b[0m \u001b[0;34m[\u001b[0m\u001b[0;34m]\u001b[0m\u001b[0;34m\u001b[0m\u001b[0;34m\u001b[0m\u001b[0m\n",
      "\u001b[0;31mModuleNotFoundError\u001b[0m: No module named 'fractal_learning'"
     ]
    }
   ],
   "source": [
    "from fractal_learning.fractals import ifs, diamondsquare\n",
    "import numpy as np\n",
    "\n",
    "# データセットを格納するためのリスト\n",
    "datasets = []\n",
    "\n",
    "# 50回の実行\n",
    "for _ in range(15000):\n",
    "    # フラクタルデータの生成\n",
    "    system = ifs.sample_system()\n",
    "    points = ifs.iterate(system, 100000)\n",
    "\n",
    "    # 画像の生成\n",
    "    binary_image = ifs.render(points, binary=True)\n",
    "    gray_image = ifs.render(points, binary=False)\n",
    "    color_image = ifs.colorize(gray_image)\n",
    "\n",
    "    background = diamondsquare.colorized_ds()\n",
    "\n",
    "    composite = background.copy()\n",
    "    composite[gray_image.nonzero()] = color_image[gray_image.nonzero()]\n",
    "\n",
    "    # 生成された画像をデータセットに追加\n",
    "    datasets.append({\n",
    "        'gray_image': gray_image,\n",
    "    })\n",
    "\n",
    "# datasetsをnumpy配列に変換\n",
    "gray_images = np.array([data['gray_image'] for data in datasets])\n",
    "\n",
    "# それぞれのデータセットの形状を確認\n",
    "print(\"Gray Images Shape:\", gray_images.shape)"
   ]
  },
  {
   "cell_type": "code",
   "execution_count": null,
   "metadata": {},
   "outputs": [
    {
     "ename": "TypeError",
     "evalue": "'module' object is not iterable",
     "output_type": "error",
     "traceback": [
      "\u001b[0;31m---------------------------------------------------------------------------\u001b[0m",
      "\u001b[0;31mTypeError\u001b[0m                                 Traceback (most recent call last)",
      "\u001b[0;32m/tmp/ipykernel_8562/2042107558.py\u001b[0m in \u001b[0;36m<module>\u001b[0;34m\u001b[0m\n\u001b[1;32m     10\u001b[0m \u001b[0;34m\u001b[0m\u001b[0m\n\u001b[1;32m     11\u001b[0m \u001b[0;31m# データセット内の'gray_image'を変換\u001b[0m\u001b[0;34m\u001b[0m\u001b[0;34m\u001b[0m\u001b[0;34m\u001b[0m\u001b[0m\n\u001b[0;32m---> 12\u001b[0;31m \u001b[0mtransformed_gray_images\u001b[0m \u001b[0;34m=\u001b[0m \u001b[0;34m[\u001b[0m\u001b[0mtransform\u001b[0m\u001b[0;34m(\u001b[0m\u001b[0mgray_image\u001b[0m\u001b[0;34m)\u001b[0m \u001b[0;32mfor\u001b[0m \u001b[0mgray_image\u001b[0m \u001b[0;32min\u001b[0m \u001b[0;34m[\u001b[0m\u001b[0mdata\u001b[0m\u001b[0;34m[\u001b[0m\u001b[0;34m'gray_image'\u001b[0m\u001b[0;34m]\u001b[0m \u001b[0;32mfor\u001b[0m \u001b[0mdata\u001b[0m \u001b[0;32min\u001b[0m \u001b[0mdatasets\u001b[0m\u001b[0;34m]\u001b[0m\u001b[0;34m]\u001b[0m\u001b[0;34m\u001b[0m\u001b[0;34m\u001b[0m\u001b[0m\n\u001b[0m\u001b[1;32m     13\u001b[0m \u001b[0;34m\u001b[0m\u001b[0m\n\u001b[1;32m     14\u001b[0m \u001b[0;31m# リストをPyTorchのテンソルに変換\u001b[0m\u001b[0;34m\u001b[0m\u001b[0;34m\u001b[0m\u001b[0;34m\u001b[0m\u001b[0m\n",
      "\u001b[0;31mTypeError\u001b[0m: 'module' object is not iterable"
     ]
    }
   ],
   "source": [
    "from torchvision import transforms\n",
    "import torch\n",
    "\n",
    "# あらかじめ定義された変換を取得\n",
    "transform = transforms.Compose([\n",
    "    transforms.ToTensor(),\n",
    "    transforms.Resize(size=(28, 28), interpolation=transforms.InterpolationMode.BICUBIC),\n",
    "    transforms.Normalize((0.5, ), (0.5, ))\n",
    "])\n",
    "\n",
    "# データセット内の'gray_image'を変換\n",
    "transformed_gray_images = [transform(gray_image) for gray_image in [data['gray_image'] for data in datasets]]\n",
    "\n",
    "# リストをPyTorchのテンソルに変換\n",
    "transformed_gray_images_tensor = torch.stack(transformed_gray_images)\n",
    "\n",
    "# DataLoaderに変換したテンソルを使う\n",
    "dataset = TensorDataset(transformed_gray_images_tensor)\n",
    "dataloader = DataLoader(dataset, batch_size=10, shuffle=True)\n"
   ]
  },
  {
   "cell_type": "markdown",
   "metadata": {},
   "source": [
    "========================前までのコード========================="
   ]
  },
  {
   "cell_type": "code",
   "execution_count": 3,
   "metadata": {},
   "outputs": [],
   "source": [
    "def show_tensor_images(image_flattened, num_images=1, size=(1, 28, 28)):\n",
    "  image = image_flattened.detach().cpu().view(-1, *size) # 画像のサイズ1x28x28に戻す\n",
    "  image_grid = make_grid(image[:num_images], nrow=2) # 画像を並べる\n",
    "  plt.imshow(image_grid.permute(1, 2, 0).squeeze()) # 画像の表示\n",
    "  plt.show()"
   ]
  },
  {
   "cell_type": "code",
   "execution_count": 4,
   "metadata": {},
   "outputs": [],
   "source": [
    "def get_noise(n_samples, z_dim, device='cuda'):\n",
    "  return torch.randn(n_samples, z_dim, device=device)"
   ]
  },
  {
   "cell_type": "code",
   "execution_count": 5,
   "metadata": {},
   "outputs": [],
   "source": [
    "z_dim = 256\n",
    "batch_size = 100\n",
    "learning_rate = 0.0001\n",
    "beta_1 = 0.5\n",
    "beta_2 = 0.999\n",
    "num_of_epochs = 1\n",
    "device = 'cuda'\n",
    "n_class = 1\n",
    "dataset = \"MNIST\" #FashionMNIST, Fractal"
   ]
  },
  {
   "cell_type": "markdown",
   "metadata": {},
   "source": [
    "==============データセット加工＝＝＝＝＝＝＝＝＝＝＝＝＝＝＝＝＝＝＝＝＝"
   ]
  },
  {
   "cell_type": "code",
   "execution_count": 6,
   "metadata": {},
   "outputs": [],
   "source": [
    "if dataset == \"MNIST\":\n",
    "    transform = transforms.Compose([transforms.ToTensor(),\n",
    "                                transforms.Resize(size=(28, 28), interpolation=transforms.InterpolationMode.NEAREST),\n",
    "                                transforms.Normalize((0.5, ), (0.5, ))])\n",
    " \n",
    "    dataloader = DataLoader(\n",
    "        MNIST('.', download=True, transform=transform),\n",
    "        batch_size=batch_size,\n",
    "        shuffle=True\n",
    "    )\n",
    "elif dataset == \"FashionMNIST\":\n",
    "    transform = transforms.Compose([transforms.ToTensor(),\n",
    "                                transforms.Resize(size=(28, 28), interpolation=transforms.InterpolationMode.NEAREST),\n",
    "                                transforms.Normalize((0.5, ), (0.5, ))])\n",
    " \n",
    "    dataloader = DataLoader(\n",
    "        FashionMNIST('.', download=True, transform=transform),\n",
    "        batch_size=batch_size,\n",
    "        shuffle=True\n",
    "    )\n",
    "elif dataset == \"Fractal\":\n",
    "    transform = transforms.Compose([\n",
    "        transforms.Grayscale(),\n",
    "        transforms.Resize(size=(28, 28), interpolation=transforms.InterpolationMode.BICUBIC),\n",
    "        transforms.ToTensor(),  # Convert to PyTorch tensor\n",
    "        transforms.Normalize((0.5, ), (0.5, ))\n",
    "    ])\n",
    "    load_path = os.path.join(\"/workspace/Data/Fractal/\", \"Frac60\")\n",
    "    data = datasets.ImageFolder(load_path, transform=transform)\n",
    "    # DataLoaderの作成\n",
    "    dataloader = DataLoader(data, batch_size=batch_size) \n",
    "\n",
    "elif dataset == \"MedMNIST\":\n",
    "    info = INFO['tissuemnist']\n",
    "\n",
    "    DataClass = getattr(medmnist, info['python_class'])\n",
    "\n",
    "    transform = transforms.Compose([transforms.ToTensor(),\n",
    "        transforms.Resize(size=(28, 28), interpolation=transforms.InterpolationMode.NEAREST),\n",
    "        transforms.Normalize((0.5, ), (0.5, ))\n",
    "        ])\n",
    "    # load the data\n",
    "    train_dataset = DataClass(split='train', download=True, transform=transform)\n",
    "    dataloader = DataLoader(train_dataset, batch_size=batch_size, shuffle=True)\n",
    "else:\n",
    "    raise ValueError(\"エラー\") "
   ]
  },
  {
   "cell_type": "code",
   "execution_count": 12,
   "metadata": {},
   "outputs": [],
   "source": [
    "# DataLoaderから20個のデータを取得\n",
    "num_samples_to_extract = list(range(1,n_class*10))\n",
    "data_extractor = iter(dataloader)\n",
    "new_data = []\n",
    "\n",
    "for _ in (num_samples_to_extract):\n",
    "    try:\n",
    "        sample = next(data_extractor)\n",
    "        new_data.append(sample)\n",
    "    except StopIteration:\n",
    "        # もしデータが尽きたら、この処理でループを終了\n",
    "        break"
   ]
  },
  {
   "cell_type": "markdown",
   "metadata": {},
   "source": [
    "＝＝＝＝＝＝＝＝＝＝＝＝＝＝＝＝＝＝＝＝＝＝＝"
   ]
  },
  {
   "cell_type": "code",
   "execution_count": 13,
   "metadata": {},
   "outputs": [],
   "source": [
    "counter = 0\n",
    "for data in(new_data):\n",
    "    counter += 1\n",
    "    if counter == 21:#37192235\n",
    "        plt.imshow(data[0][0].squeeze(), cmap='gray') # 画像の表示\n",
    "        plt.axis('off')\n",
    "        plt.show()\n",
    "        break"
   ]
  },
  {
   "cell_type": "markdown",
   "metadata": {},
   "source": [
    "======================================="
   ]
  },
  {
   "cell_type": "code",
   "execution_count": 14,
   "metadata": {},
   "outputs": [],
   "source": [
    "# ウェイトの初期化\n",
    "def weights_init(m):\n",
    "    if isinstance(m, nn.Conv2d) or isinstance(m, nn.ConvTranspose2d):\n",
    "        torch.nn.init.normal_(m.weight, 0.0, 0.02)\n",
    "    if isinstance(m, nn.BatchNorm2d):\n",
    "        torch.nn.init.normal_(m.weight, 0.0, 0.02)\n",
    "        torch.nn.init.constant_(m.bias, 0)\n"
   ]
  },
  {
   "cell_type": "code",
   "execution_count": 15,
   "metadata": {},
   "outputs": [],
   "source": [
    "criterion = nn.BCEWithLogitsLoss()\n",
    "# criterion = nn.BCELoss() "
   ]
  },
  {
   "cell_type": "code",
   "execution_count": 16,
   "metadata": {},
   "outputs": [],
   "source": [
    "class DiscriminatorBlock(nn.Module):\n",
    "  def __init__(self, input_channels, output_channels, kernel_size=4, stride=2, final_layer=False):\n",
    "    super(DiscriminatorBlock, self).__init__()\n",
    "    if not final_layer:\n",
    "      self.discriminator_block = nn.Sequential(nn.Conv2d(input_channels, output_channels,\n",
    "                                                        kernel_size, stride),\n",
    "                                              nn.BatchNorm2d(output_channels),\n",
    "                                              nn.LeakyReLU(negative_slope=0.2,\n",
    "                                                           inplace=True))\n",
    "    else:\n",
    "      self.discriminator_block = nn.Sequential(nn.Conv2d(input_channels, output_channels,\n",
    "                                                         kernel_size, stride))\n",
    "  def forward(self, x):\n",
    "    return self.discriminator_block(x) \n",
    "  \n",
    "class Discriminator(nn.Module):\n",
    "  def __init__(self, image_channels, hidden_channels):\n",
    "    super(Discriminator, self).__init__()\n",
    "    self.discriminator = nn.Sequential(DiscriminatorBlock(image_channels, hidden_channels),\n",
    "                                       DiscriminatorBlock(hidden_channels, hidden_channels * 2),\n",
    "                                       DiscriminatorBlock(hidden_channels * 2, 1,\n",
    "                                                          final_layer=True))\n",
    "  def forward(self, input_images):\n",
    "    prediction = self.discriminator(input_images)\n",
    "    print(prediction.size())\n",
    "    return prediction.view(len(prediction), -1)"
   ]
  },
  {
   "cell_type": "code",
   "execution_count": 17,
   "metadata": {},
   "outputs": [],
   "source": [
    "class GeneratorA(nn.Module):\n",
    "    def __init__(self, nz=10, ngf=64, nc=1, img_size=28, activation=None, final_bn=False):\n",
    "        super(GeneratorA, self).__init__() \n",
    "\n",
    "        self.init_size = img_size//4\n",
    "        self.l1 = nn.Sequential(nn.Linear(nz, ngf*2*self.init_size**2))\n",
    "        self.conv_blocks0 = nn.Sequential(\n",
    "            nn.BatchNorm2d(ngf*2),\n",
    "        )\n",
    "        self.conv_blocks1 = nn.Sequential(\n",
    "            nn.Conv2d(ngf*2, ngf*2, 3, stride=1, padding=1),\n",
    "            nn.BatchNorm2d(ngf*2),\n",
    "            nn.LeakyReLU(0.2, inplace=True),\n",
    "        )\n",
    "\n",
    "        if final_bn:\n",
    "            self.conv_blocks2 = nn.Sequential(\n",
    "                nn.Conv2d(ngf*2, ngf, 3, stride=1, padding=1),\n",
    "                nn.BatchNorm2d(ngf),\n",
    "                nn.LeakyReLU(0.2, inplace=True),\n",
    "                nn.Conv2d(ngf, nc, 3, stride=1, padding=1),\n",
    "                # nn.Tanh(),\n",
    "                nn.BatchNorm2d(nc, affine=False) \n",
    "            )\n",
    "        else:\n",
    "            self.conv_blocks2 = nn.Sequential(\n",
    "                nn.Conv2d(ngf*2, ngf, 3, stride=1, padding=1),\n",
    "                nn.BatchNorm2d(ngf),\n",
    "                nn.LeakyReLU(0.2, inplace=True),\n",
    "                nn.Conv2d(ngf, nc, 3, stride=1, padding=1),\n",
    "                # nn.Tanh(),\n",
    "                # nn.BatchNorm2d(nc, affine=False) \n",
    "            )\n",
    "\n",
    "    def forward(self, z, pre_x=True):\n",
    "        z = self.l1(z.view(z.shape[0],-1))\n",
    "        out = z.view(z.shape[0], -1, self.init_size, self.init_size)\n",
    "        img = self.conv_blocks0(out)\n",
    "        img = nn.functional.interpolate(img,scale_factor=2)\n",
    "        img = self.conv_blocks1(img)\n",
    "        img = nn.functional.interpolate(img,scale_factor=2)\n",
    "        img = self.conv_blocks2(img)\n",
    "\n",
    "        if pre_x :\n",
    "            return img\n",
    "        else:\n",
    "            # img = nn.functional.interpolate(img, scale_factor=2)\n",
    "            return nn.Tanh(img)"
   ]
  },
  {
   "cell_type": "code",
   "execution_count": 18,
   "metadata": {},
   "outputs": [
    {
     "ename": "RuntimeError",
     "evalue": "No CUDA GPUs are available",
     "output_type": "error",
     "traceback": [
      "\u001b[0;31m---------------------------------------------------------------------------\u001b[0m",
      "\u001b[0;31mRuntimeError\u001b[0m                              Traceback (most recent call last)",
      "\u001b[0;32m/tmp/ipykernel_185185/1526307392.py\u001b[0m in \u001b[0;36m<module>\u001b[0;34m\u001b[0m\n\u001b[1;32m      3\u001b[0m \u001b[0;31m# インスタンス化\u001b[0m\u001b[0;34m\u001b[0m\u001b[0;34m\u001b[0m\u001b[0;34m\u001b[0m\u001b[0m\n\u001b[1;32m      4\u001b[0m \u001b[0;31m# generatorA = GeneratorA(nz = z_dim, img_size = 28).to(device)\u001b[0m\u001b[0;34m\u001b[0m\u001b[0;34m\u001b[0m\u001b[0;34m\u001b[0m\u001b[0m\n\u001b[0;32m----> 5\u001b[0;31m \u001b[0mgeneratorA\u001b[0m \u001b[0;34m=\u001b[0m \u001b[0mGeneratorA\u001b[0m\u001b[0;34m(\u001b[0m\u001b[0mnz\u001b[0m\u001b[0;34m=\u001b[0m\u001b[0mz_dim\u001b[0m\u001b[0;34m,\u001b[0m \u001b[0mnc\u001b[0m\u001b[0;34m=\u001b[0m\u001b[0;36m1\u001b[0m\u001b[0;34m,\u001b[0m \u001b[0mimg_size\u001b[0m\u001b[0;34m=\u001b[0m\u001b[0;36m28\u001b[0m\u001b[0;34m,\u001b[0m \u001b[0mactivation\u001b[0m\u001b[0;34m=\u001b[0m\u001b[0mtorch\u001b[0m\u001b[0;34m.\u001b[0m\u001b[0mtanh\u001b[0m\u001b[0;34m,\u001b[0m \u001b[0mfinal_bn\u001b[0m\u001b[0;34m=\u001b[0m\u001b[0;32mFalse\u001b[0m\u001b[0;34m)\u001b[0m\u001b[0;34m.\u001b[0m\u001b[0mto\u001b[0m\u001b[0;34m(\u001b[0m\u001b[0mdevice\u001b[0m\u001b[0;34m)\u001b[0m\u001b[0;34m\u001b[0m\u001b[0;34m\u001b[0m\u001b[0m\n\u001b[0m\u001b[1;32m      6\u001b[0m \u001b[0mdiscriminator\u001b[0m \u001b[0;34m=\u001b[0m \u001b[0mDiscriminator\u001b[0m\u001b[0;34m(\u001b[0m\u001b[0mimage_channels\u001b[0m\u001b[0;34m=\u001b[0m\u001b[0mimage_channels\u001b[0m\u001b[0;34m,\u001b[0m \u001b[0mhidden_channels\u001b[0m\u001b[0;34m=\u001b[0m\u001b[0mhidden_channles\u001b[0m\u001b[0;34m)\u001b[0m\u001b[0;34m.\u001b[0m\u001b[0mto\u001b[0m\u001b[0;34m(\u001b[0m\u001b[0mdevice\u001b[0m\u001b[0;34m)\u001b[0m\u001b[0;34m\u001b[0m\u001b[0;34m\u001b[0m\u001b[0m\n\u001b[1;32m      7\u001b[0m \u001b[0;34m\u001b[0m\u001b[0m\n",
      "\u001b[0;32m/opt/conda/lib/python3.7/site-packages/torch/nn/modules/module.py\u001b[0m in \u001b[0;36mto\u001b[0;34m(self, *args, **kwargs)\u001b[0m\n\u001b[1;32m    925\u001b[0m             \u001b[0;32mreturn\u001b[0m \u001b[0mt\u001b[0m\u001b[0;34m.\u001b[0m\u001b[0mto\u001b[0m\u001b[0;34m(\u001b[0m\u001b[0mdevice\u001b[0m\u001b[0;34m,\u001b[0m \u001b[0mdtype\u001b[0m \u001b[0;32mif\u001b[0m \u001b[0mt\u001b[0m\u001b[0;34m.\u001b[0m\u001b[0mis_floating_point\u001b[0m\u001b[0;34m(\u001b[0m\u001b[0;34m)\u001b[0m \u001b[0;32mor\u001b[0m \u001b[0mt\u001b[0m\u001b[0;34m.\u001b[0m\u001b[0mis_complex\u001b[0m\u001b[0;34m(\u001b[0m\u001b[0;34m)\u001b[0m \u001b[0;32melse\u001b[0m \u001b[0;32mNone\u001b[0m\u001b[0;34m,\u001b[0m \u001b[0mnon_blocking\u001b[0m\u001b[0;34m)\u001b[0m\u001b[0;34m\u001b[0m\u001b[0;34m\u001b[0m\u001b[0m\n\u001b[1;32m    926\u001b[0m \u001b[0;34m\u001b[0m\u001b[0m\n\u001b[0;32m--> 927\u001b[0;31m         \u001b[0;32mreturn\u001b[0m \u001b[0mself\u001b[0m\u001b[0;34m.\u001b[0m\u001b[0m_apply\u001b[0m\u001b[0;34m(\u001b[0m\u001b[0mconvert\u001b[0m\u001b[0;34m)\u001b[0m\u001b[0;34m\u001b[0m\u001b[0;34m\u001b[0m\u001b[0m\n\u001b[0m\u001b[1;32m    928\u001b[0m \u001b[0;34m\u001b[0m\u001b[0m\n\u001b[1;32m    929\u001b[0m     def register_backward_hook(\n",
      "\u001b[0;32m/opt/conda/lib/python3.7/site-packages/torch/nn/modules/module.py\u001b[0m in \u001b[0;36m_apply\u001b[0;34m(self, fn)\u001b[0m\n\u001b[1;32m    577\u001b[0m     \u001b[0;32mdef\u001b[0m \u001b[0m_apply\u001b[0m\u001b[0;34m(\u001b[0m\u001b[0mself\u001b[0m\u001b[0;34m,\u001b[0m \u001b[0mfn\u001b[0m\u001b[0;34m)\u001b[0m\u001b[0;34m:\u001b[0m\u001b[0;34m\u001b[0m\u001b[0;34m\u001b[0m\u001b[0m\n\u001b[1;32m    578\u001b[0m         \u001b[0;32mfor\u001b[0m \u001b[0mmodule\u001b[0m \u001b[0;32min\u001b[0m \u001b[0mself\u001b[0m\u001b[0;34m.\u001b[0m\u001b[0mchildren\u001b[0m\u001b[0;34m(\u001b[0m\u001b[0;34m)\u001b[0m\u001b[0;34m:\u001b[0m\u001b[0;34m\u001b[0m\u001b[0;34m\u001b[0m\u001b[0m\n\u001b[0;32m--> 579\u001b[0;31m             \u001b[0mmodule\u001b[0m\u001b[0;34m.\u001b[0m\u001b[0m_apply\u001b[0m\u001b[0;34m(\u001b[0m\u001b[0mfn\u001b[0m\u001b[0;34m)\u001b[0m\u001b[0;34m\u001b[0m\u001b[0;34m\u001b[0m\u001b[0m\n\u001b[0m\u001b[1;32m    580\u001b[0m \u001b[0;34m\u001b[0m\u001b[0m\n\u001b[1;32m    581\u001b[0m         \u001b[0;32mdef\u001b[0m \u001b[0mcompute_should_use_set_data\u001b[0m\u001b[0;34m(\u001b[0m\u001b[0mtensor\u001b[0m\u001b[0;34m,\u001b[0m \u001b[0mtensor_applied\u001b[0m\u001b[0;34m)\u001b[0m\u001b[0;34m:\u001b[0m\u001b[0;34m\u001b[0m\u001b[0;34m\u001b[0m\u001b[0m\n",
      "\u001b[0;32m/opt/conda/lib/python3.7/site-packages/torch/nn/modules/module.py\u001b[0m in \u001b[0;36m_apply\u001b[0;34m(self, fn)\u001b[0m\n\u001b[1;32m    577\u001b[0m     \u001b[0;32mdef\u001b[0m \u001b[0m_apply\u001b[0m\u001b[0;34m(\u001b[0m\u001b[0mself\u001b[0m\u001b[0;34m,\u001b[0m \u001b[0mfn\u001b[0m\u001b[0;34m)\u001b[0m\u001b[0;34m:\u001b[0m\u001b[0;34m\u001b[0m\u001b[0;34m\u001b[0m\u001b[0m\n\u001b[1;32m    578\u001b[0m         \u001b[0;32mfor\u001b[0m \u001b[0mmodule\u001b[0m \u001b[0;32min\u001b[0m \u001b[0mself\u001b[0m\u001b[0;34m.\u001b[0m\u001b[0mchildren\u001b[0m\u001b[0;34m(\u001b[0m\u001b[0;34m)\u001b[0m\u001b[0;34m:\u001b[0m\u001b[0;34m\u001b[0m\u001b[0;34m\u001b[0m\u001b[0m\n\u001b[0;32m--> 579\u001b[0;31m             \u001b[0mmodule\u001b[0m\u001b[0;34m.\u001b[0m\u001b[0m_apply\u001b[0m\u001b[0;34m(\u001b[0m\u001b[0mfn\u001b[0m\u001b[0;34m)\u001b[0m\u001b[0;34m\u001b[0m\u001b[0;34m\u001b[0m\u001b[0m\n\u001b[0m\u001b[1;32m    580\u001b[0m \u001b[0;34m\u001b[0m\u001b[0m\n\u001b[1;32m    581\u001b[0m         \u001b[0;32mdef\u001b[0m \u001b[0mcompute_should_use_set_data\u001b[0m\u001b[0;34m(\u001b[0m\u001b[0mtensor\u001b[0m\u001b[0;34m,\u001b[0m \u001b[0mtensor_applied\u001b[0m\u001b[0;34m)\u001b[0m\u001b[0;34m:\u001b[0m\u001b[0;34m\u001b[0m\u001b[0;34m\u001b[0m\u001b[0m\n",
      "\u001b[0;32m/opt/conda/lib/python3.7/site-packages/torch/nn/modules/module.py\u001b[0m in \u001b[0;36m_apply\u001b[0;34m(self, fn)\u001b[0m\n\u001b[1;32m    600\u001b[0m             \u001b[0;31m# `with torch.no_grad():`\u001b[0m\u001b[0;34m\u001b[0m\u001b[0;34m\u001b[0m\u001b[0;34m\u001b[0m\u001b[0m\n\u001b[1;32m    601\u001b[0m             \u001b[0;32mwith\u001b[0m \u001b[0mtorch\u001b[0m\u001b[0;34m.\u001b[0m\u001b[0mno_grad\u001b[0m\u001b[0;34m(\u001b[0m\u001b[0;34m)\u001b[0m\u001b[0;34m:\u001b[0m\u001b[0;34m\u001b[0m\u001b[0;34m\u001b[0m\u001b[0m\n\u001b[0;32m--> 602\u001b[0;31m                 \u001b[0mparam_applied\u001b[0m \u001b[0;34m=\u001b[0m \u001b[0mfn\u001b[0m\u001b[0;34m(\u001b[0m\u001b[0mparam\u001b[0m\u001b[0;34m)\u001b[0m\u001b[0;34m\u001b[0m\u001b[0;34m\u001b[0m\u001b[0m\n\u001b[0m\u001b[1;32m    603\u001b[0m             \u001b[0mshould_use_set_data\u001b[0m \u001b[0;34m=\u001b[0m \u001b[0mcompute_should_use_set_data\u001b[0m\u001b[0;34m(\u001b[0m\u001b[0mparam\u001b[0m\u001b[0;34m,\u001b[0m \u001b[0mparam_applied\u001b[0m\u001b[0;34m)\u001b[0m\u001b[0;34m\u001b[0m\u001b[0;34m\u001b[0m\u001b[0m\n\u001b[1;32m    604\u001b[0m             \u001b[0;32mif\u001b[0m \u001b[0mshould_use_set_data\u001b[0m\u001b[0;34m:\u001b[0m\u001b[0;34m\u001b[0m\u001b[0;34m\u001b[0m\u001b[0m\n",
      "\u001b[0;32m/opt/conda/lib/python3.7/site-packages/torch/nn/modules/module.py\u001b[0m in \u001b[0;36mconvert\u001b[0;34m(t)\u001b[0m\n\u001b[1;32m    923\u001b[0m                 return t.to(device, dtype if t.is_floating_point() or t.is_complex() else None,\n\u001b[1;32m    924\u001b[0m                             non_blocking, memory_format=convert_to_format)\n\u001b[0;32m--> 925\u001b[0;31m             \u001b[0;32mreturn\u001b[0m \u001b[0mt\u001b[0m\u001b[0;34m.\u001b[0m\u001b[0mto\u001b[0m\u001b[0;34m(\u001b[0m\u001b[0mdevice\u001b[0m\u001b[0;34m,\u001b[0m \u001b[0mdtype\u001b[0m \u001b[0;32mif\u001b[0m \u001b[0mt\u001b[0m\u001b[0;34m.\u001b[0m\u001b[0mis_floating_point\u001b[0m\u001b[0;34m(\u001b[0m\u001b[0;34m)\u001b[0m \u001b[0;32mor\u001b[0m \u001b[0mt\u001b[0m\u001b[0;34m.\u001b[0m\u001b[0mis_complex\u001b[0m\u001b[0;34m(\u001b[0m\u001b[0;34m)\u001b[0m \u001b[0;32melse\u001b[0m \u001b[0;32mNone\u001b[0m\u001b[0;34m,\u001b[0m \u001b[0mnon_blocking\u001b[0m\u001b[0;34m)\u001b[0m\u001b[0;34m\u001b[0m\u001b[0;34m\u001b[0m\u001b[0m\n\u001b[0m\u001b[1;32m    926\u001b[0m \u001b[0;34m\u001b[0m\u001b[0m\n\u001b[1;32m    927\u001b[0m         \u001b[0;32mreturn\u001b[0m \u001b[0mself\u001b[0m\u001b[0;34m.\u001b[0m\u001b[0m_apply\u001b[0m\u001b[0;34m(\u001b[0m\u001b[0mconvert\u001b[0m\u001b[0;34m)\u001b[0m\u001b[0;34m\u001b[0m\u001b[0;34m\u001b[0m\u001b[0m\n",
      "\u001b[0;32m/opt/conda/lib/python3.7/site-packages/torch/cuda/__init__.py\u001b[0m in \u001b[0;36m_lazy_init\u001b[0;34m()\u001b[0m\n\u001b[1;32m    215\u001b[0m         \u001b[0;31m# This function throws if there's a driver initialization error, no GPUs\u001b[0m\u001b[0;34m\u001b[0m\u001b[0;34m\u001b[0m\u001b[0;34m\u001b[0m\u001b[0m\n\u001b[1;32m    216\u001b[0m         \u001b[0;31m# are found or any other error occurs\u001b[0m\u001b[0;34m\u001b[0m\u001b[0;34m\u001b[0m\u001b[0;34m\u001b[0m\u001b[0m\n\u001b[0;32m--> 217\u001b[0;31m         \u001b[0mtorch\u001b[0m\u001b[0;34m.\u001b[0m\u001b[0m_C\u001b[0m\u001b[0;34m.\u001b[0m\u001b[0m_cuda_init\u001b[0m\u001b[0;34m(\u001b[0m\u001b[0;34m)\u001b[0m\u001b[0;34m\u001b[0m\u001b[0;34m\u001b[0m\u001b[0m\n\u001b[0m\u001b[1;32m    218\u001b[0m         \u001b[0;31m# Some of the queued calls may reentrantly call _lazy_init();\u001b[0m\u001b[0;34m\u001b[0m\u001b[0;34m\u001b[0m\u001b[0;34m\u001b[0m\u001b[0m\n\u001b[1;32m    219\u001b[0m         \u001b[0;31m# we need to just return without initializing in that case.\u001b[0m\u001b[0;34m\u001b[0m\u001b[0;34m\u001b[0m\u001b[0;34m\u001b[0m\u001b[0m\n",
      "\u001b[0;31mRuntimeError\u001b[0m: No CUDA GPUs are available"
     ]
    }
   ],
   "source": [
    "image_channels = 1\n",
    "hidden_channles = 16\n",
    "# インスタンス化\n",
    "# generatorA = GeneratorA(nz = z_dim, img_size = 28).to(device) \n",
    "generatorA = GeneratorA(nz=z_dim, nc=1, img_size=28, activation=torch.tanh, final_bn=False).to(device)\n",
    "discriminator = Discriminator(image_channels=image_channels, hidden_channels=hidden_channles).to(device)\n",
    " \n",
    "# オプティマイザ\n",
    "gen_optA = torch.optim.Adam(generatorA.parameters(), lr=learning_rate, betas=(beta_1, beta_2))# , betas=(beta_1, beta_2), weight_decay=1e-5)\n",
    "disc_opt = torch.optim.Adam(discriminator.parameters(), lr=learning_rate, betas=(beta_1, beta_2), weight_decay=1e-5)# , betas=(beta_1, beta_2)\n",
    "\n",
    "discriminator = discriminator.apply(weights_init)\n",
    "# generatorA = generatorA.apply(weights_init)"
   ]
  },
  {
   "cell_type": "code",
   "execution_count": 19,
   "metadata": {},
   "outputs": [
    {
     "name": "stderr",
     "output_type": "stream",
     "text": [
      "  0%|          | 0/600 [00:00<?, ?it/s]"
     ]
    }
   ],
   "source": [
    "for epoch in range(num_of_epochs):\n",
    "  mean_generator_loss = 0\n",
    "  mean_discriminator_loss = 0\n",
    "  for real_images, _ in tqdm(dataloader):\n",
    "    real_images = real_images.to(device)\n",
    "\n",
    "    for i in range(5):\n",
    "      # discriminator\n",
    "      disc_opt.zero_grad() # 勾配の初期化\n",
    "      # 偽画像\n",
    "\n",
    "      noise = get_noise(len(real_images), z_dim, device=device) # ノイズの生成\n",
    "      fake_images = generatorA(noise, pre_x=True) # 偽画像を生成\n",
    "      disc_fake_prediction = discriminator(fake_images.detach()) # Discriminatorで予測\n",
    "      correct_labels = torch.zeros_like(disc_fake_prediction) # 偽画像の正解ラベルは\n",
    "      disc_fake_loss = criterion(disc_fake_prediction, correct_labels) # 偽画像に対する損失を計算\n",
    "\n",
    "  \n",
    "      # 本物の画像\n",
    "      disc_real_prediction = discriminator(real_images) # Discriminatorで予測\n",
    "      correct_labels = torch.ones_like(disc_real_prediction) # 本物の画像の正解ラベルは1\n",
    "      disc_real_loss = criterion(disc_real_prediction, correct_labels * 0.9) # 本物の画像に対する損失を計算\n",
    "  \n",
    "      # 最終的な損失\n",
    "      disc_loss = (disc_fake_loss + disc_real_loss) / 2\n",
    "      disc_loss.backward()\n",
    "      disc_opt.step()\n",
    "  \n",
    "      # エポックごとの損失\n",
    "      mean_discriminator_loss += disc_loss / len(real_images)\n",
    "    \n",
    "    for i in range(1):\n",
    "      # generator\n",
    "      gen_optA.zero_grad() # 勾配の初期化\n",
    "      fake_noise = get_noise(len(real_images), z_dim, device=device) # ノイズの生成\n",
    "      fake_images = generatorA(fake_noise, pre_x=True) # 偽画像の生成\n",
    "      disc_fake_prediction = discriminator(fake_images) # Discriminatorで予測\n",
    "      correct_labels = torch.ones_like(disc_fake_prediction) # 本物の正解ラベルは1\n",
    "      gen_loss = criterion(disc_fake_prediction, correct_labels * 0.9) # 損失を計算\n",
    "      gen_loss.backward()\n",
    "      gen_optA.step()\n",
    "      # エポックごとの損失\n",
    "      mean_generator_loss += gen_loss / len(real_images)\n",
    "  # print(f'Generator loss: {mean_generator_loss}')\n",
    "  # print(f'Discriminator loss: {mean_discriminator_loss}')\n",
    "   \n",
    "  # 生成される画像を表示\n",
    "  # noise = get_noise(len(real_images), z_dim, device=device)\n",
    "  # print(generatorA(noise).size())\n",
    "  # show_tensor_images(generatorA(noise))\n"
   ]
  },
  {
   "cell_type": "code",
   "execution_count": 28,
   "metadata": {},
   "outputs": [
    {
     "name": "stderr",
     "output_type": "stream",
     "text": [
      "Clipping input data to the valid range for imshow with RGB data ([0..1] for floats or [0..255] for integers).\n"
     ]
    },
    {
     "name": "stdout",
     "output_type": "stream",
     "text": [
      "torch.Size([128, 1, 28, 28])\n"
     ]
    },
    {
     "data": {
      "image/png": "[encoded data removed]",
      "text/plain": [
       "<Figure size 432x288 with 1 Axes>"
      ]
     },
     "metadata": {
      "needs_background": "light"
     },
     "output_type": "display_data"
    }
   ],
   "source": [
    "# 生成される画像を表示\n",
    "noise = get_noise(128, z_dim, device=device)\n",
    "print(generatorA(noise).size())\n",
    "show_tensor_images(generatorA(noise))"
   ]
  },
  {
   "cell_type": "markdown",
   "metadata": {},
   "source": [
    "=============モデル保存========================"
   ]
  },
  {
   "cell_type": "code",
   "execution_count": 24,
   "metadata": {},
   "outputs": [],
   "source": [
    "dataset = \"OCTMNIST\"\n",
    "midpath = os.path.join('/workspace/network_Gan/', dataset)\n",
    "savepath = os.path.join(midpath, 'net_param.py')"
   ]
  },
  {
   "cell_type": "code",
   "execution_count": 4,
   "metadata": {},
   "outputs": [
    {
     "ename": "NameError",
     "evalue": "name 'generatorA' is not defined",
     "output_type": "error",
     "traceback": [
      "\u001b[0;31m---------------------------------------------------------------------------\u001b[0m",
      "\u001b[0;31mNameError\u001b[0m                                 Traceback (most recent call last)",
      "\u001b[0;32m/tmp/ipykernel_1739524/2195105860.py\u001b[0m in \u001b[0;36m<module>\u001b[0;34m\u001b[0m\n\u001b[0;32m----> 1\u001b[0;31m \u001b[0mtorch\u001b[0m\u001b[0;34m.\u001b[0m\u001b[0msave\u001b[0m\u001b[0;34m(\u001b[0m\u001b[0mgeneratorA\u001b[0m\u001b[0;34m.\u001b[0m\u001b[0mstate_dict\u001b[0m\u001b[0;34m(\u001b[0m\u001b[0;34m)\u001b[0m\u001b[0;34m,\u001b[0m\u001b[0msavepath\u001b[0m\u001b[0;34m)\u001b[0m\u001b[0;34m\u001b[0m\u001b[0;34m\u001b[0m\u001b[0m\n\u001b[0m",
      "\u001b[0;31mNameError\u001b[0m: name 'generatorA' is not defined"
     ]
    }
   ],
   "source": [
    "torch.save(generatorA.state_dict(),savepath)"
   ]
  },
  {
   "cell_type": "markdown",
   "metadata": {},
   "source": [
    "=======================コードの確認＝＝＝＝＝＝＝＝＝＝＝＝＝＝"
   ]
  },
  {
   "cell_type": "code",
   "execution_count": 264,
   "metadata": {},
   "outputs": [],
   "source": [
    "dataset = \"MedMNIST\""
   ]
  },
  {
   "cell_type": "code",
   "execution_count": 265,
   "metadata": {},
   "outputs": [],
   "source": [
    "midpath = os.path.join('/workspace/network_Gan/', dataset)\n",
    "savepath = os.path.join(midpath, 'net_param.py')"
   ]
  },
  {
   "cell_type": "code",
   "execution_count": 266,
   "metadata": {},
   "outputs": [
    {
     "data": {
      "text/plain": [
       "<All keys matched successfully>"
      ]
     },
     "execution_count": 266,
     "metadata": {},
     "output_type": "execute_result"
    }
   ],
   "source": [
    "generatorA = GeneratorA(nz = z_dim, img_size = 28).to(device) \n",
    "generatorA.load_state_dict(torch.load(savepath))"
   ]
  },
  {
   "cell_type": "code",
   "execution_count": 267,
   "metadata": {},
   "outputs": [],
   "source": [
    "def show_tensor_images(image_flattened, num_images=2, size=(1, 28, 28)):\n",
    "  image = image_flattened.detach().cpu().view(-1, *size) # 画像のサイズ1x28x28に戻す\n",
    "  image_grid = make_grid(image[:num_images], nrow=2) # 画像を並べる\n",
    "  plt.imshow(image_grid.permute(1, 2, 0).squeeze()) # 画像の表示\n",
    "  plt.axis(\"off\")\n",
    "  plt.show()"
   ]
  },
  {
   "cell_type": "code",
   "execution_count": 268,
   "metadata": {},
   "outputs": [
    {
     "name": "stderr",
     "output_type": "stream",
     "text": [
      "Clipping input data to the valid range for imshow with RGB data ([0..1] for floats or [0..255] for integers).\n"
     ]
    },
    {
     "name": "stdout",
     "output_type": "stream",
     "text": [
      "torch.Size([128, 1, 28, 28])\n"
     ]
    },
    {
     "data": {
      "image/png": "[encoded data removed]",
      "text/plain": [
       "<Figure size 432x288 with 1 Axes>"
      ]
     },
     "metadata": {
      "needs_background": "light"
     },
     "output_type": "display_data"
    }
   ],
   "source": [
    "# 生成される画像を表示\n",
    "noise = get_noise(128, z_dim, device=device)\n",
    "print(generatorA(noise).size())\n",
    "show_tensor_images(generatorA(noise))"
   ]
  },
  {
   "cell_type": "code",
   "execution_count": null,
   "metadata": {},
   "outputs": [],
   "source": []
  }
 ],
 "metadata": {
  "kernelspec": {
   "display_name": "base",
   "language": "python",
   "name": "python3"
  },
  "language_info": {
   "codemirror_mode": {
    "name": "ipython",
    "version": 3
   },
   "file_extension": ".py",
   "mimetype": "text/x-python",
   "name": "python",
   "nbconvert_exporter": "python",
   "pygments_lexer": "ipython3",
   "version": "3.7.13"
  },
  "orig_nbformat": 4
 },
 "nbformat": 4,
 "nbformat_minor": 2
}
